{
 "cells": [
  {
   "cell_type": "code",
   "execution_count": null,
   "id": "dca61969-8f83-4330-ab1b-00212406659b",
   "metadata": {
    "scrolled": true
   },
   "outputs": [],
   "source": [
    "#!pip install pytrends "
   ]
  },
  {
   "cell_type": "code",
   "execution_count": 1,
   "id": "d71d1226-fac3-4df8-b287-8af90548bcdb",
   "metadata": {},
   "outputs": [],
   "source": [
    "from pytrends.request import TrendReq\n",
    "\n",
    "pytrends = TrendReq(hl='ko', tz=540)"
   ]
  },
  {
   "cell_type": "code",
   "execution_count": 2,
   "id": "47726b66-9398-437e-8a83-ca095d13ad78",
   "metadata": {},
   "outputs": [
    {
     "ename": "ResponseError",
     "evalue": "The request failed: Google returned a response with code 400",
     "output_type": "error",
     "traceback": [
      "\u001b[0;31m---------------------------------------------------------------------------\u001b[0m",
      "\u001b[0;31mResponseError\u001b[0m                             Traceback (most recent call last)",
      "\u001b[1;32m/Users/sunse/Documents/BeanToTea/market-trends-anlaysis/pytrends.ipynb Cell 3\u001b[0m line \u001b[0;36m<cell line: 3>\u001b[0;34m()\u001b[0m\n\u001b[1;32m      <a href='vscode-notebook-cell:/Users/sunse/Documents/BeanToTea/market-trends-anlaysis/pytrends.ipynb#W2sZmlsZQ%3D%3D?line=0'>1</a>\u001b[0m kw_list \u001b[39m=\u001b[39m [\u001b[39m\"\u001b[39m\u001b[39m원두\u001b[39m\u001b[39m\"\u001b[39m, \u001b[39m\"\u001b[39m\u001b[39m커피\u001b[39m\u001b[39m\"\u001b[39m, \u001b[39m\"\u001b[39m\u001b[39mcoffee bean\u001b[39m\u001b[39m\"\u001b[39m, \u001b[39m\"\u001b[39m\u001b[39mcoffee\u001b[39m\u001b[39m\"\u001b[39m]\n\u001b[0;32m----> <a href='vscode-notebook-cell:/Users/sunse/Documents/BeanToTea/market-trends-anlaysis/pytrends.ipynb#W2sZmlsZQ%3D%3D?line=2'>3</a>\u001b[0m pytrends\u001b[39m.\u001b[39;49mbuild_payload(kw_list, cat\u001b[39m=\u001b[39;49m\u001b[39m0\u001b[39;49m, timeframe\u001b[39m=\u001b[39;49m\u001b[39m'\u001b[39;49m\u001b[39mtoday 1-y\u001b[39;49m\u001b[39m'\u001b[39;49m, geo\u001b[39m=\u001b[39;49m\u001b[39m'\u001b[39;49m\u001b[39mKR\u001b[39;49m\u001b[39m'\u001b[39;49m, gprop\u001b[39m=\u001b[39;49m\u001b[39m'\u001b[39;49m\u001b[39m'\u001b[39;49m)\n",
      "File \u001b[0;32m~/.virtualenvs/venv/lib/python3.10/site-packages/pytrends/request.py:189\u001b[0m, in \u001b[0;36mTrendReq.build_payload\u001b[0;34m(self, kw_list, cat, timeframe, geo, gprop)\u001b[0m\n\u001b[1;32m    187\u001b[0m \u001b[39mself\u001b[39m\u001b[39m.\u001b[39mtoken_payload[\u001b[39m'\u001b[39m\u001b[39mreq\u001b[39m\u001b[39m'\u001b[39m] \u001b[39m=\u001b[39m json\u001b[39m.\u001b[39mdumps(\u001b[39mself\u001b[39m\u001b[39m.\u001b[39mtoken_payload[\u001b[39m'\u001b[39m\u001b[39mreq\u001b[39m\u001b[39m'\u001b[39m])\n\u001b[1;32m    188\u001b[0m \u001b[39m# get tokens\u001b[39;00m\n\u001b[0;32m--> 189\u001b[0m \u001b[39mself\u001b[39;49m\u001b[39m.\u001b[39;49m_tokens()\n\u001b[1;32m    190\u001b[0m \u001b[39mreturn\u001b[39;00m\n",
      "File \u001b[0;32m~/.virtualenvs/venv/lib/python3.10/site-packages/pytrends/request.py:195\u001b[0m, in \u001b[0;36mTrendReq._tokens\u001b[0;34m(self)\u001b[0m\n\u001b[1;32m    193\u001b[0m \u001b[39m\"\"\"Makes request to Google to get API tokens for interest over time, interest by region and related queries\"\"\"\u001b[39;00m\n\u001b[1;32m    194\u001b[0m \u001b[39m# make the request and parse the returned json\u001b[39;00m\n\u001b[0;32m--> 195\u001b[0m widget_dicts \u001b[39m=\u001b[39m \u001b[39mself\u001b[39;49m\u001b[39m.\u001b[39;49m_get_data(\n\u001b[1;32m    196\u001b[0m     url\u001b[39m=\u001b[39;49mTrendReq\u001b[39m.\u001b[39;49mGENERAL_URL,\n\u001b[1;32m    197\u001b[0m     method\u001b[39m=\u001b[39;49mTrendReq\u001b[39m.\u001b[39;49mPOST_METHOD,\n\u001b[1;32m    198\u001b[0m     params\u001b[39m=\u001b[39;49m\u001b[39mself\u001b[39;49m\u001b[39m.\u001b[39;49mtoken_payload,\n\u001b[1;32m    199\u001b[0m     trim_chars\u001b[39m=\u001b[39;49m\u001b[39m4\u001b[39;49m,\n\u001b[1;32m    200\u001b[0m )[\u001b[39m'\u001b[39m\u001b[39mwidgets\u001b[39m\u001b[39m'\u001b[39m]\n\u001b[1;32m    201\u001b[0m \u001b[39m# order of the json matters...\u001b[39;00m\n\u001b[1;32m    202\u001b[0m first_region_token \u001b[39m=\u001b[39m \u001b[39mTrue\u001b[39;00m\n",
      "File \u001b[0;32m~/.virtualenvs/venv/lib/python3.10/site-packages/pytrends/request.py:160\u001b[0m, in \u001b[0;36mTrendReq._get_data\u001b[0;34m(self, url, method, trim_chars, **kwargs)\u001b[0m\n\u001b[1;32m    158\u001b[0m \u001b[39mif\u001b[39;00m response\u001b[39m.\u001b[39mstatus_code \u001b[39m==\u001b[39m status_codes\u001b[39m.\u001b[39mcodes\u001b[39m.\u001b[39mtoo_many_requests:\n\u001b[1;32m    159\u001b[0m     \u001b[39mraise\u001b[39;00m exceptions\u001b[39m.\u001b[39mTooManyRequestsError\u001b[39m.\u001b[39mfrom_response(response)\n\u001b[0;32m--> 160\u001b[0m \u001b[39mraise\u001b[39;00m exceptions\u001b[39m.\u001b[39mResponseError\u001b[39m.\u001b[39mfrom_response(response)\n",
      "\u001b[0;31mResponseError\u001b[0m: The request failed: Google returned a response with code 400"
     ]
    }
   ],
   "source": [
    "kw_list = [\"원두\", \"커피\", \"coffee bean\", \"coffee\"]\n",
    "\n",
    "pytrends.build_payload(kw_list, cat=0, timeframe='today 1-y', geo='KR', gprop='')"
   ]
  },
  {
   "cell_type": "code",
   "execution_count": null,
   "id": "569c7a3c-ba96-4f98-b3a8-0ce1ccd918f2",
   "metadata": {},
   "outputs": [],
   "source": [
    "dataframe = pytrends.interest_over_time()"
   ]
  },
  {
   "cell_type": "code",
   "execution_count": null,
   "id": "ca3c6d80-10e8-4835-9159-9b7f92c40dfc",
   "metadata": {},
   "outputs": [],
   "source": [
    "# 지역별 트렌드 지수\n",
    "pytrends.interest_by_region(\n",
    "  \t\t\t\t\t\t\tresolution='CITY', # 시, 나라, 지하철..?, 지역 레벨로 설정 가능\n",
    "  \t\t\t\t\t\t\tinc_low_vol=True, # 검색량이 많지 않은 지역도 포함할건지\n",
    "  \t\t\t\t\t\t\tinc_geo_code=True # 국가명하고 iso코드 같이 표시할건지\n",
    "  \t\t\t\t\t\t\t)"
   ]
  },
  {
   "cell_type": "code",
   "execution_count": null,
   "id": "c02e5109-4b35-4f71-bcf2-69a438962d04",
   "metadata": {},
   "outputs": [],
   "source": [
    "pytrends.related_topics()\n"
   ]
  },
  {
   "cell_type": "code",
   "execution_count": null,
   "id": "37ee456b-f637-4738-98d8-2763597d1f67",
   "metadata": {},
   "outputs": [],
   "source": [
    "pytrends.related_queries()\n"
   ]
  },
  {
   "cell_type": "code",
   "execution_count": null,
   "id": "34bff02a-be02-45a7-b1c1-2b33ca4aef69",
   "metadata": {},
   "outputs": [],
   "source": [
    "pytrends.trending_searches(pn='south_korea') "
   ]
  },
  {
   "cell_type": "code",
   "execution_count": null,
   "id": "cc05025e-f115-4197-9053-8f12c78e86a7",
   "metadata": {},
   "outputs": [],
   "source": [
    "pytrends.realtime_trending_searches(pn='KR')\n"
   ]
  },
  {
   "cell_type": "code",
   "execution_count": null,
   "id": "ceb8db27-e763-4be0-9537-8dc73a321c6a",
   "metadata": {},
   "outputs": [],
   "source": [
    "pytrends.top_charts(2021, hl='ko', tz=540, geo='KR')\n"
   ]
  },
  {
   "cell_type": "code",
   "execution_count": null,
   "id": "4fb5bd4c-46d1-41fb-ad50-b042e8344a1a",
   "metadata": {},
   "outputs": [],
   "source": [
    "keyword = \"원두\"\n",
    "pytrends.suggestions(keyword)\n"
   ]
  },
  {
   "cell_type": "code",
   "execution_count": null,
   "id": "edf7046e-302e-4eb4-b8ae-6308b826110f",
   "metadata": {},
   "outputs": [],
   "source": [
    "pytrends.categories()\n"
   ]
  }
 ],
 "metadata": {
  "kernelspec": {
   "display_name": "venv",
   "language": "python",
   "name": "python3"
  },
  "language_info": {
   "codemirror_mode": {
    "name": "ipython",
    "version": 3
   },
   "file_extension": ".py",
   "mimetype": "text/x-python",
   "name": "python",
   "nbconvert_exporter": "python",
   "pygments_lexer": "ipython3",
   "version": "3.10.11"
  }
 },
 "nbformat": 4,
 "nbformat_minor": 5
}
